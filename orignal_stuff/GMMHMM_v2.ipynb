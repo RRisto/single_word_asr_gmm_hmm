{
 "cells": [
  {
   "cell_type": "markdown",
   "metadata": {},
   "source": [
    "# GMM HMM Word recognizer (single speaker)"
   ]
  },
  {
   "cell_type": "code",
   "execution_count": 1,
   "metadata": {},
   "outputs": [],
   "source": [
    "# example from here: https://github.com/slegroux/ASR_GMMHMM"
   ]
  },
  {
   "cell_type": "code",
   "execution_count": 4,
   "metadata": {},
   "outputs": [],
   "source": [
    "import os\n",
    "import sys\n",
    "import librosa\n",
    "import numpy as np\n",
    "import json\n",
    "from hmmlearn import hmm\n",
    "import hmmlearn\n",
    "import warnings\n",
    "from matplotlib import pyplot as plt\n",
    "from sklearn.model_selection import train_test_split\n",
    "\n",
    "import matplotlib.style as ms\n",
    "ms.use('seaborn-muted')\n",
    "%matplotlib inline"
   ]
  },
  {
   "cell_type": "markdown",
   "metadata": {},
   "source": [
    "## Data"
   ]
  },
  {
   "cell_type": "code",
   "execution_count": 5,
   "metadata": {},
   "outputs": [],
   "source": [
    "dictionary = ['apple', 'banana', 'kiwi', 'lime', 'orange', 'peach', 'pineapple']"
   ]
  },
  {
   "cell_type": "code",
   "execution_count": 6,
   "metadata": {},
   "outputs": [],
   "source": [
    "audio_dir_path = 'data/audio/'"
   ]
  },
  {
   "cell_type": "markdown",
   "metadata": {},
   "source": [
    "## Read audio and compute mfcc"
   ]
  },
  {
   "cell_type": "code",
   "execution_count": 7,
   "metadata": {},
   "outputs": [
    {
     "name": "stdout",
     "output_type": "stream",
     "text": [
      "(13, 15)\n"
     ]
    }
   ],
   "source": [
    "file = 'data/audio/apple/apple01.wav'\n",
    "\n",
    "def compute_mfcc(file):\n",
    "    y, sr = librosa.load(file)\n",
    "    S = librosa.feature.melspectrogram(y, sr=sr, n_mels=128)\n",
    "    log_S = librosa.power_to_db(S, ref=np.max)\n",
    "    mfcc = librosa.feature.mfcc(S=log_S, n_mfcc=13)\n",
    "    return(mfcc, y)\n",
    "\n",
    "mfcc, y = compute_mfcc(file)\n",
    "print(mfcc.shape)"
   ]
  },
  {
   "cell_type": "code",
   "execution_count": 8,
   "metadata": {},
   "outputs": [
    {
     "data": {
      "text/plain": [
       "[<matplotlib.lines.Line2D at 0x14e24329888>]"
      ]
     },
     "execution_count": 8,
     "metadata": {},
     "output_type": "execute_result"
    },
    {
     "data": {
      "image/png": "[encoded data removed]",
      "text/plain": [
       "<Figure size 432x288 with 1 Axes>"
      ]
     },
     "metadata": {
      "needs_background": "light"
     },
     "output_type": "display_data"
    }
   ],
   "source": [
    "plt.plot(y)"
   ]
  },
  {
   "cell_type": "code",
   "execution_count": 9,
   "metadata": {},
   "outputs": [
    {
     "data": {
      "text/plain": [
       "<matplotlib.image.AxesImage at 0x14e24bca8c8>"
      ]
     },
     "execution_count": 9,
     "metadata": {},
     "output_type": "execute_result"
    },
    {
     "data": {
      "image/png": "[encoded data removed]",
      "text/plain": [
       "<Figure size 288x332.308 with 1 Axes>"
      ]
     },
     "metadata": {
      "needs_background": "light"
     },
     "output_type": "display_data"
    }
   ],
   "source": [
    "plt.matshow(mfcc.transpose())"
   ]
  },
  {
   "cell_type": "markdown",
   "metadata": {},
   "source": [
    "## Prepare input "
   ]
  },
  {
   "cell_type": "code",
   "execution_count": 18,
   "metadata": {},
   "outputs": [],
   "source": [
    "max = 0\n",
    "data = {}\n",
    "for dirpath, dirname, files in os.walk(audio_dir_path):\n",
    "    for f in files:\n",
    "        if f.endswith('.wav'):\n",
    "            content = {\n",
    "                'label': None,\n",
    "                'file_path': None,\n",
    "                'mfcc': None\n",
    "            }\n",
    "            file_path = os.path.join(dirpath,f)\n",
    "            label = dirpath.split('/')[2]\n",
    "            content['label'] = label\n",
    "            content['file_path'] = file_path\n",
    "            content['mfcc'] = compute_mfcc(file_path)[0]\n",
    "            if content['mfcc'].shape[1] > max:\n",
    "                max = content['mfcc'].shape[1]\n",
    "            data[f] = content\n",
    "d = {}\n",
    "d['content'] = data\n",
    "d['max'] = max\n",
    "content = d['content']\n",
    "maxi = d['max']"
   ]
  },
  {
   "cell_type": "code",
   "execution_count": 19,
   "metadata": {},
   "outputs": [
    {
     "name": "stdout",
     "output_type": "stream",
     "text": [
      "apple\n",
      "38\n"
     ]
    },
    {
     "data": {
      "text/plain": [
       "(13, 18)"
      ]
     },
     "execution_count": 19,
     "metadata": {},
     "output_type": "execute_result"
    },
    {
     "data": {
      "image/png": "[encoded data removed]",
      "text/plain": [
       "<Figure size 288x398.769 with 1 Axes>"
      ]
     },
     "metadata": {
      "needs_background": "light"
     },
     "output_type": "display_data"
    }
   ],
   "source": [
    "print(d['content']['apple07.wav']['label'])\n",
    "mfcc_apple07 = d['content']['apple07.wav']['mfcc']\n",
    "mfcc_kiwi07 = d['content']['kiwi07.wav']['mfcc']\n",
    "plt.matshow(mfcc_apple07.transpose())\n",
    "print(d['max'])\n",
    "mfcc_apple07.shape"
   ]
  },
  {
   "cell_type": "markdown",
   "metadata": {},
   "source": [
    "## Train / Test"
   ]
  },
  {
   "cell_type": "code",
   "execution_count": 20,
   "metadata": {},
   "outputs": [
    {
     "name": "stdout",
     "output_type": "stream",
     "text": [
      "(18, 13)\n",
      "(36, 13)\n"
     ]
    }
   ],
   "source": [
    "print(mfcc_apple07.transpose().shape)\n",
    "toto = np.vstack((mfcc_apple07.transpose(), mfcc_apple07.transpose()))\n",
    "print(toto.shape)"
   ]
  },
  {
   "cell_type": "code",
   "execution_count": 21,
   "metadata": {},
   "outputs": [
    {
     "name": "stdout",
     "output_type": "stream",
     "text": [
      "(2497, 13)\n",
      "(2497,)\n"
     ]
    }
   ],
   "source": [
    "X = []\n",
    "y = []\n",
    "\n",
    "count = 0\n",
    "for k in content:\n",
    "    mfcc = content[k]['mfcc'].transpose()\n",
    "    n_frames = mfcc.shape[0]\n",
    "\n",
    "    label = content[k]['label']\n",
    "    \n",
    "    if count == 0:\n",
    "        X = mfcc\n",
    "        y = [label] * n_frames\n",
    "        count += 1\n",
    "    else:\n",
    "        y = np.hstack((y, [label] * n_frames))\n",
    "        X = np.vstack((X, mfcc))\n",
    "\n",
    "print(X.shape)\n",
    "print(y.shape)"
   ]
  },
  {
   "cell_type": "code",
   "execution_count": 22,
   "metadata": {},
   "outputs": [
    {
     "name": "stdout",
     "output_type": "stream",
     "text": [
      "(1672, 13) (825, 13)\n"
     ]
    }
   ],
   "source": [
    "X_train, X_test, y_train, y_test = train_test_split(X, y, test_size=0.33, random_state=42)\n",
    "print(X_train.shape, X_test.shape)"
   ]
  },
  {
   "cell_type": "markdown",
   "metadata": {},
   "source": [
    "## GMM HMM training"
   ]
  },
  {
   "cell_type": "code",
   "execution_count": 23,
   "metadata": {},
   "outputs": [
    {
     "name": "stdout",
     "output_type": "stream",
     "text": [
      "['apple', 'banana', 'kiwi', 'lime', 'orange', 'peach', 'pineapple']\n"
     ]
    }
   ],
   "source": [
    "print(dictionary)"
   ]
  },
  {
   "cell_type": "code",
   "execution_count": 24,
   "metadata": {},
   "outputs": [
    {
     "data": {
      "text/plain": [
       "array(['banana', 'pineapple', 'apple', ..., 'lime', 'orange', 'kiwi'],\n",
       "      dtype='<U9')"
      ]
     },
     "execution_count": 24,
     "metadata": {},
     "output_type": "execute_result"
    }
   ],
   "source": [
    "y_train"
   ]
  },
  {
   "cell_type": "code",
   "execution_count": 25,
   "metadata": {},
   "outputs": [
    {
     "name": "stdout",
     "output_type": "stream",
     "text": [
      "(174, 13)\n",
      "(215, 13)\n",
      "(183, 13)\n",
      "(203, 13)\n",
      "(337, 13)\n",
      "(298, 13)\n",
      "(262, 13)\n"
     ]
    }
   ],
   "source": [
    "models = {}\n",
    "for fruit in dictionary:\n",
    "    fruit_data = X_train[y_train==fruit]\n",
    "    print(fruit_data.shape)\n",
    "    model = hmm.GaussianHMM(n_components=4, covariance_type='diag', n_iter=1000)\n",
    "    models[fruit] = model.fit(fruit_data)\n"
   ]
  },
  {
   "cell_type": "markdown",
   "metadata": {},
   "source": [
    "## Model visualization"
   ]
  },
  {
   "cell_type": "markdown",
   "metadata": {},
   "source": [
    "Each MFCC feature (dim 13) is modeled with 4 different Gaussian components (mean dim 4 x 13 + covariance dim 4 x 13 x 13)"
   ]
  },
  {
   "cell_type": "code",
   "execution_count": 26,
   "metadata": {},
   "outputs": [
    {
     "name": "stdout",
     "output_type": "stream",
     "text": [
      "(4, 13) (4, 13, 13)\n",
      "apple (array([-466.2221908 , -573.46674041, -634.08056009, -563.45580646]), [429.43565963711126, 871.2960861785939, 704.1429641259259, 1108.4741590143922])\n"
     ]
    }
   ],
   "source": [
    "gmm_data = {}\n",
    "feature_idx = 0\n",
    "\n",
    "k = 'apple'\n",
    "def get_mean_var_model(k):\n",
    "    print(models[k].means_.shape, models[k].covars_.shape)\n",
    "    mean = models[k].means_[:, feature_idx]\n",
    "    var = []\n",
    "    for i in range(models[k].n_components):\n",
    "        var.append(models[k].covars_[i][feature_idx][feature_idx])\n",
    "    return(mean, var)\n",
    "\n",
    "print(k, get_mean_var_model(k))\n"
   ]
  },
  {
   "cell_type": "code",
   "execution_count": 27,
   "metadata": {},
   "outputs": [
    {
     "name": "stdout",
     "output_type": "stream",
     "text": [
      "[0.36827014 0.24197072]\n"
     ]
    }
   ],
   "source": [
    "def gauss_func(x, m, var):\n",
    "    x = np.array(x)\n",
    "    sigma = np.sqrt(var)\n",
    "    y = 1 / (np.sqrt(2 * np.pi) * sigma) * np.exp(-0.5 * ((x - m) / sigma)**2)\n",
    "    return(y)\n",
    "    \n",
    "print(gauss_func([0.4,1], 0., 1.))"
   ]
  },
  {
   "cell_type": "code",
   "execution_count": 30,
   "metadata": {},
   "outputs": [
    {
     "name": "stdout",
     "output_type": "stream",
     "text": [
      "-466.22219079507005 429.43565963711126\n",
      "-573.4667404128647 871.2960861785939\n",
      "-634.0805600884485 704.1429641259259\n",
      "-563.4558064594514 1108.4741590143922\n"
     ]
    }
   ],
   "source": [
    "for m, v in zip(mean, var):\n",
    "    print(m, v)"
   ]
  },
  {
   "cell_type": "code",
   "execution_count": 31,
   "metadata": {},
   "outputs": [
    {
     "name": "stdout",
     "output_type": "stream",
     "text": [
      "(4, 13) (4, 13, 13)\n"
     ]
    },
    {
     "data": {
      "image/png": "[encoded data removed]",
      "text/plain": [
       "<Figure size 432x288 with 1 Axes>"
      ]
     },
     "metadata": {
      "needs_background": "light"
     },
     "output_type": "display_data"
    }
   ],
   "source": [
    "x = range(-900, -400)\n",
    "k = 'apple'\n",
    "mean, var = get_mean_var_model(k)\n",
    "for m, v in zip(mean, var):\n",
    "    plt.title(k)\n",
    "    plt.plot(x, gauss_func(x, m, v))"
   ]
  },
  {
   "cell_type": "code",
   "execution_count": 34,
   "metadata": {},
   "outputs": [
    {
     "name": "stdout",
     "output_type": "stream",
     "text": [
      "(4, 13) (4, 13, 13)\n"
     ]
    },
    {
     "data": {
      "image/png": "[encoded data removed]",
      "text/plain": [
       "<Figure size 432x288 with 1 Axes>"
      ]
     },
     "metadata": {
      "needs_background": "light"
     },
     "output_type": "display_data"
    }
   ],
   "source": [
    "x = range(-900, -400)\n",
    "k = 'peach'\n",
    "mean, var = get_mean_var_model(k)\n",
    "for m, v in zip(mean, var):\n",
    "    plt.title(k)\n",
    "    plt.plot(x, gauss_func(x, m, v))"
   ]
  },
  {
   "cell_type": "code",
   "execution_count": 35,
   "metadata": {},
   "outputs": [
    {
     "name": "stdout",
     "output_type": "stream",
     "text": [
      "(4, 13) (4, 13, 13)\n"
     ]
    },
    {
     "data": {
      "image/png": "[encoded data removed]",
      "text/plain": [
       "<Figure size 432x288 with 1 Axes>"
      ]
     },
     "metadata": {
      "needs_background": "light"
     },
     "output_type": "display_data"
    }
   ],
   "source": [
    "x = range(-900, -400)\n",
    "k = 'orange'\n",
    "mean, var = get_mean_var_model(k)\n",
    "for m, v in zip(mean, var):\n",
    "    plt.title(k)\n",
    "    plt.plot(x, gauss_func(x, m, v))"
   ]
  },
  {
   "cell_type": "markdown",
   "metadata": {},
   "source": [
    "## Inference"
   ]
  },
  {
   "cell_type": "code",
   "execution_count": null,
   "metadata": {},
   "outputs": [],
   "source": []
  },
  {
   "cell_type": "code",
   "execution_count": 37,
   "metadata": {},
   "outputs": [
    {
     "name": "stdout",
     "output_type": "stream",
     "text": [
      "('apple', -881.1686409880137)\n",
      "('kiwi', -1020.2978079611373)\n"
     ]
    }
   ],
   "source": [
    "apple_test = mfcc_apple07.transpose()\n",
    "kiwi_test = mfcc_kiwi07.transpose()\n",
    "\n",
    "def predict_word(mfcc_frames):\n",
    "    score = -2**64\n",
    "    for k, v in models.items():\n",
    "        score_new = models[k].score(mfcc_frames)\n",
    "#         print(k, score)\n",
    "        if score_new > score:\n",
    "            score = score_new\n",
    "            res = (k, score)\n",
    "\n",
    "    return(res)\n",
    "\n",
    "print(predict_word(apple_test))\n",
    "print(predict_word(kiwi_test))"
   ]
  },
  {
   "cell_type": "code",
   "execution_count": 38,
   "metadata": {},
   "outputs": [
    {
     "data": {
      "text/plain": [
       "<matplotlib.image.AxesImage at 0x14e273ac048>"
      ]
     },
     "execution_count": 38,
     "metadata": {},
     "output_type": "execute_result"
    },
    {
     "data": {
      "image/png": "[encoded data removed]",
      "text/plain": [
       "<Figure size 288x420.923 with 1 Axes>"
      ]
     },
     "metadata": {
      "needs_background": "light"
     },
     "output_type": "display_data"
    },
    {
     "data": {
      "image/png": "[encoded data removed]",
      "text/plain": [
       "<Figure size 288x398.769 with 1 Axes>"
      ]
     },
     "metadata": {
      "needs_background": "light"
     },
     "output_type": "display_data"
    }
   ],
   "source": [
    "plt.matshow(kiwi_test)\n",
    "plt.matshow(apple_test)"
   ]
  },
  {
   "cell_type": "markdown",
   "metadata": {},
   "source": [
    "## References:\n",
    "- https://medium.com/@kangeugine/hidden-markov-model-7681c22f5b9\n",
    "- https://kastnerkyle.github.io/posts/single-speaker-word-recognition-with-hidden-markov-models/"
   ]
  },
  {
   "cell_type": "code",
   "execution_count": 39,
   "metadata": {},
   "outputs": [
    {
     "data": {
      "text/plain": [
       "'0.2.3'"
      ]
     },
     "execution_count": 39,
     "metadata": {},
     "output_type": "execute_result"
    }
   ],
   "source": [
    "hmmlearn.__version__"
   ]
  },
  {
   "cell_type": "code",
   "execution_count": null,
   "metadata": {},
   "outputs": [],
   "source": []
  }
 ],
 "metadata": {
  "kernelspec": {
   "display_name": "Python 3",
   "language": "python",
   "name": "python3"
  },
  "language_info": {
   "codemirror_mode": {
    "name": "ipython",
    "version": 3
   },
   "file_extension": ".py",
   "mimetype": "text/x-python",
   "name": "python",
   "nbconvert_exporter": "python",
   "pygments_lexer": "ipython3",
   "version": "3.7.4"
  }
 },
 "nbformat": 4,
 "nbformat_minor": 2
}
