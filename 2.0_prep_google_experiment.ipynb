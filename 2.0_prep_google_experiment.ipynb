{
 "cells": [
  {
   "cell_type": "code",
   "execution_count": 33,
   "metadata": {},
   "outputs": [],
   "source": [
    "import os, subprocess\n",
    "from pathlib import Path, PurePath\n",
    "from shutil import copyfile\n",
    "import pandas as pd\n"
   ]
  },
  {
   "cell_type": "code",
   "execution_count": null,
   "metadata": {},
   "outputs": [],
   "source": [
    "## Prepare data experiment very similar to the way described in the paper: "
   ]
  },
  {
   "cell_type": "markdown",
   "metadata": {},
   "source": [
    "## Paths"
   ]
  },
  {
   "cell_type": "code",
   "execution_count": 2,
   "metadata": {},
   "outputs": [],
   "source": [
    "GOOGLE_DATA_PATH=Path('data/audio_google_original/')\n",
    "GOOGLE_ORIG_DATA=GOOGLE_DATA_PATH/'original/'\n",
    "TEST_LIST_FILE=GOOGLE_ORIG_DATA/'testing_list.txt'\n",
    "VALIDATION_LIST_FILE=GOOGLE_ORIG_DATA/'validation_list.txt'\n",
    "GOOGLE_DATA_BACKGROUND_PATH=GOOGLE_ORIG_DATA/'_background_noise_'\n",
    "GOOGLE_DATA_BACKGROUND_SPLITTED_PATH=GOOGLE_ORIG_DATA/'_background_noise_splitted_'\n",
    "GOOGLE_DATA_BACKGROUND_SPLITTED_PATH.mkdir(exist_ok=True)\n",
    "\n",
    "TEST_FOLDER=GOOGLE_DATA_PATH/'test'\n",
    "TRAIN_FOLDER=GOOGLE_DATA_PATH/'train'\n",
    "\n",
    "LABELS_USED=[\"yes\", \"no\", \"up\", \"down\", \"left\", \"right\", \"on\", \"off\", \"stop\", \"go\", '_background_noise_splitted_']\n",
    "UNKNOW_CATEGORY='unknown'\n",
    "NO_TALK_CATEGORY='_background_noise_'"
   ]
  },
  {
   "cell_type": "markdown",
   "metadata": {},
   "source": [
    "## Split noize files 1 sec files"
   ]
  },
  {
   "cell_type": "code",
   "execution_count": 3,
   "metadata": {},
   "outputs": [],
   "source": [
    "def split_wav(input_file, output_path):\n",
    "    filename_wo_suffix=str(input_file).split('\\\\')[-1].replace('.wav','')\n",
    "    print(filename_wo_suffix)\n",
    "    output_file_begin=str(output_path/filename_wo_suffix)\n",
    "    print(output_file_begin)\n",
    "    process = subprocess.Popen(['ffmpeg', '-i',  str(input_file), '-f', 'segment', '-segment_time', '1',\n",
    "                                '-c', 'copy', f'{output_file_begin}%03d.wav'],\n",
    "                     stdout=subprocess.PIPE, \n",
    "                     stderr=subprocess.PIPE)\n",
    "    stdout, stderr = process.communicate()\n",
    "    return stdout, stderr\n",
    "    "
   ]
  },
  {
   "cell_type": "code",
   "execution_count": 4,
   "metadata": {},
   "outputs": [
    {
     "data": {
      "text/plain": [
       "6"
      ]
     },
     "execution_count": 4,
     "metadata": {},
     "output_type": "execute_result"
    }
   ],
   "source": [
    "background_files=list(GOOGLE_DATA_BACKGROUND_PATH.glob('*.wav'))\n",
    "len(background_files)"
   ]
  },
  {
   "cell_type": "code",
   "execution_count": 5,
   "metadata": {},
   "outputs": [
    {
     "name": "stdout",
     "output_type": "stream",
     "text": [
      "doing_the_dishes\n",
      "data\\audio_google_original\\original\\_background_noise_splitted_\\doing_the_dishes\n",
      "dude_miaowing\n",
      "data\\audio_google_original\\original\\_background_noise_splitted_\\dude_miaowing\n",
      "exercise_bike\n",
      "data\\audio_google_original\\original\\_background_noise_splitted_\\exercise_bike\n",
      "pink_noise\n",
      "data\\audio_google_original\\original\\_background_noise_splitted_\\pink_noise\n",
      "running_tap\n",
      "data\\audio_google_original\\original\\_background_noise_splitted_\\running_tap\n",
      "white_noise\n",
      "data\\audio_google_original\\original\\_background_noise_splitted_\\white_noise\n"
     ]
    }
   ],
   "source": [
    "for background_file in background_files:\n",
    "    split_wav(background_file, GOOGLE_DATA_BACKGROUND_SPLITTED_PATH)"
   ]
  },
  {
   "cell_type": "code",
   "execution_count": 6,
   "metadata": {},
   "outputs": [
    {
     "data": {
      "text/plain": [
       "402"
      ]
     },
     "execution_count": 6,
     "metadata": {},
     "output_type": "execute_result"
    }
   ],
   "source": [
    "splitted_background_files=[str(fl).replace('\\\\','/') for fl in GOOGLE_DATA_BACKGROUND_SPLITTED_PATH.rglob('*.wav')]\n",
    "len(splitted_background_files)"
   ]
  },
  {
   "cell_type": "markdown",
   "metadata": {},
   "source": [
    "## Get list of all files"
   ]
  },
  {
   "cell_type": "code",
   "execution_count": 7,
   "metadata": {},
   "outputs": [
    {
     "data": {
      "text/plain": [
       "106237"
      ]
     },
     "execution_count": 7,
     "metadata": {},
     "output_type": "execute_result"
    }
   ],
   "source": [
    "all_files=[str(fl).replace('\\\\','/') for fl in GOOGLE_ORIG_DATA.rglob('*.wav')]\n",
    "\n",
    "len(all_files)"
   ]
  },
  {
   "cell_type": "code",
   "execution_count": 8,
   "metadata": {},
   "outputs": [
    {
     "data": {
      "text/plain": [
       "['data/audio_google_original/original/backward/0165e0e8_nohash_0.wav',\n",
       " 'data/audio_google_original/original/backward/017c4098_nohash_0.wav',\n",
       " 'data/audio_google_original/original/backward/017c4098_nohash_1.wav',\n",
       " 'data/audio_google_original/original/backward/017c4098_nohash_2.wav',\n",
       " 'data/audio_google_original/original/backward/017c4098_nohash_3.wav']"
      ]
     },
     "execution_count": 8,
     "metadata": {},
     "output_type": "execute_result"
    }
   ],
   "source": [
    "all_files[:5]"
   ]
  },
  {
   "cell_type": "code",
   "execution_count": 9,
   "metadata": {},
   "outputs": [
    {
     "data": {
      "text/plain": [
       "106231"
      ]
     },
     "execution_count": 9,
     "metadata": {},
     "output_type": "execute_result"
    }
   ],
   "source": [
    "### exclude original noize files\n",
    "all_files=[fl for fl in all_files if '/_background_noise_/' not in fl]\n",
    "len(all_files)"
   ]
  },
  {
   "cell_type": "markdown",
   "metadata": {},
   "source": [
    "## Make train file list"
   ]
  },
  {
   "cell_type": "code",
   "execution_count": 10,
   "metadata": {},
   "outputs": [
    {
     "data": {
      "text/plain": [
       "'data/audio_google_original/original/testing_list.txt'"
      ]
     },
     "execution_count": 10,
     "metadata": {},
     "output_type": "execute_result"
    }
   ],
   "source": [
    "TEST_LIST_FILE.as_posix()"
   ]
  },
  {
   "cell_type": "code",
   "execution_count": 11,
   "metadata": {},
   "outputs": [
    {
     "data": {
      "text/plain": [
       "11006"
      ]
     },
     "execution_count": 11,
     "metadata": {},
     "output_type": "execute_result"
    }
   ],
   "source": [
    "test_files=TEST_LIST_FILE.read_text().split('\\n')\n",
    "len(test_files)"
   ]
  },
  {
   "cell_type": "code",
   "execution_count": 12,
   "metadata": {},
   "outputs": [
    {
     "data": {
      "text/plain": [
       "['right/bb05582b_nohash_3.wav',\n",
       " 'right/97f4c236_nohash_2.wav',\n",
       " 'right/f2e59fea_nohash_3.wav',\n",
       " 'right/fdb5155e_nohash_2.wav',\n",
       " 'right/dc75148d_nohash_0.wav']"
      ]
     },
     "execution_count": 12,
     "metadata": {},
     "output_type": "execute_result"
    }
   ],
   "source": [
    "test_files[:5]"
   ]
  },
  {
   "cell_type": "code",
   "execution_count": 13,
   "metadata": {},
   "outputs": [
    {
     "data": {
      "text/plain": [
       "9982"
      ]
     },
     "execution_count": 13,
     "metadata": {},
     "output_type": "execute_result"
    }
   ],
   "source": [
    "validation_files=VALIDATION_LIST_FILE.read_text().split('\\n')\n",
    "len(validation_files)"
   ]
  },
  {
   "cell_type": "code",
   "execution_count": 14,
   "metadata": {},
   "outputs": [
    {
     "data": {
      "text/plain": [
       "['right/a69b9b3e_nohash_0.wav',\n",
       " 'right/439c84f4_nohash_1.wav',\n",
       " 'right/409c962a_nohash_1.wav',\n",
       " 'right/dbaf8fc6_nohash_2.wav',\n",
       " 'right/a6d586b7_nohash_1.wav']"
      ]
     },
     "execution_count": 14,
     "metadata": {},
     "output_type": "execute_result"
    }
   ],
   "source": [
    "validation_files[:5]"
   ]
  },
  {
   "cell_type": "code",
   "execution_count": 15,
   "metadata": {},
   "outputs": [],
   "source": [
    "def make_train_list(all_files, test_files, validation_files, orig_files_folder='data/audio_google_original/original/'):\n",
    "    test_files_fullpath=[]\n",
    "    for file in test_files:\n",
    "        test_files_fullpath.append(orig_files_folder+file)\n",
    "        \n",
    "    validation_files_fullpath=[]\n",
    "    for file in validation_files:\n",
    "        validation_files_fullpath.append(orig_files_folder+file)\n",
    "        \n",
    "    train_files=set(all_files)-set(test_files_fullpath)-set(validation_files_fullpath)\n",
    "    \n",
    "    train_files=list(train_files)\n",
    "    return train_files, test_files_fullpath, validation_files_fullpath, "
   ]
  },
  {
   "cell_type": "code",
   "execution_count": 16,
   "metadata": {},
   "outputs": [
    {
     "data": {
      "text/plain": [
       "(85245, 11006, 9982)"
      ]
     },
     "execution_count": 16,
     "metadata": {},
     "output_type": "execute_result"
    }
   ],
   "source": [
    "train_files, test_files, valid_files=make_train_list(all_files, test_files, validation_files)\n",
    "len(train_files), len(test_files), len(valid_files)"
   ]
  },
  {
   "cell_type": "code",
   "execution_count": 17,
   "metadata": {},
   "outputs": [
    {
     "data": {
      "text/plain": [
       "[]"
      ]
     },
     "execution_count": 17,
     "metadata": {},
     "output_type": "execute_result"
    }
   ],
   "source": [
    "[fl for fl in test_files if '_background_noise_' in fl]"
   ]
  },
  {
   "cell_type": "code",
   "execution_count": 18,
   "metadata": {},
   "outputs": [],
   "source": [
    "## Add backgournd noise files to test set (yes I knwo they are also in train set but there arent many of them so lets use them)\n",
    "test_files=test_files+splitted_background_files"
   ]
  },
  {
   "cell_type": "code",
   "execution_count": 19,
   "metadata": {},
   "outputs": [
    {
     "data": {
      "text/plain": [
       "11408"
      ]
     },
     "execution_count": 19,
     "metadata": {},
     "output_type": "execute_result"
    }
   ],
   "source": [
    "len(test_files)"
   ]
  },
  {
   "cell_type": "markdown",
   "metadata": {},
   "source": [
    "## Copy files to destination folders"
   ]
  },
  {
   "cell_type": "code",
   "execution_count": 20,
   "metadata": {},
   "outputs": [
    {
     "data": {
      "text/plain": [
       "95227"
      ]
     },
     "execution_count": 20,
     "metadata": {},
     "output_type": "execute_result"
    }
   ],
   "source": [
    "#as this https://arxiv.org/pdf/1804.03209.pdf says that validation set is used to adjust metrics in training I'll add it to traiingset\n",
    "train_files_w_valid=train_files+valid_files\n",
    "len(train_files_w_valid)"
   ]
  },
  {
   "cell_type": "code",
   "execution_count": 31,
   "metadata": {},
   "outputs": [
    {
     "name": "stdout",
     "output_type": "stream",
     "text": [
      "working on file 0\n",
      "working on file 1000\n",
      "working on file 2000\n",
      "working on file 3000\n",
      "working on file 4000\n",
      "working on file 5000\n",
      "working on file 6000\n",
      "working on file 7000\n",
      "working on file 8000\n",
      "working on file 9000\n",
      "working on file 10000\n",
      "working on file 11000\n",
      "Exception occured at file data/audio_google_original/original/\n"
     ]
    }
   ],
   "source": [
    "def copy_orig2model_folder(files, folder2copy):\n",
    "    for i, fl in enumerate(files):\n",
    "        if i%1000==0:\n",
    "            print(f'working on file {i}')\n",
    "        folder, filename =fl.split('/')[-2:]\n",
    "        if folder not in LABELS_USED:\n",
    "            filename=f'{folder}_{filename}'\n",
    "            folder=UNKNOW_CATEGORY\n",
    "        dest_folder=folder2copy/folder\n",
    "        if not os.path.isdir(dest_folder):\n",
    "            dest_folder.mkdir()\n",
    "        dest_file=dest_folder/filename\n",
    "        try:\n",
    "            copyfile(fl, dest_file)\n",
    "        except Exception as e:\n",
    "            print(f'Exception occured at file {fl}')\n",
    "            \n",
    "copy_orig2model_folder(test_files, TEST_FOLDER)"
   ]
  },
  {
   "cell_type": "code",
   "execution_count": 32,
   "metadata": {},
   "outputs": [
    {
     "name": "stdout",
     "output_type": "stream",
     "text": [
      "working on file 0\n",
      "working on file 1000\n",
      "working on file 2000\n",
      "working on file 3000\n",
      "working on file 4000\n",
      "working on file 5000\n",
      "working on file 6000\n",
      "working on file 7000\n",
      "working on file 8000\n",
      "working on file 9000\n",
      "working on file 10000\n",
      "working on file 11000\n",
      "working on file 12000\n",
      "working on file 13000\n",
      "working on file 14000\n",
      "working on file 15000\n",
      "working on file 16000\n",
      "working on file 17000\n",
      "working on file 18000\n",
      "working on file 19000\n",
      "working on file 20000\n",
      "working on file 21000\n",
      "working on file 22000\n",
      "working on file 23000\n",
      "working on file 24000\n",
      "working on file 25000\n",
      "working on file 26000\n",
      "working on file 27000\n",
      "working on file 28000\n",
      "working on file 29000\n",
      "working on file 30000\n",
      "working on file 31000\n",
      "working on file 32000\n",
      "working on file 33000\n",
      "working on file 34000\n",
      "working on file 35000\n",
      "working on file 36000\n",
      "working on file 37000\n",
      "working on file 38000\n",
      "working on file 39000\n",
      "working on file 40000\n",
      "working on file 41000\n",
      "working on file 42000\n",
      "working on file 43000\n",
      "working on file 44000\n",
      "working on file 45000\n",
      "working on file 46000\n",
      "working on file 47000\n",
      "working on file 48000\n",
      "working on file 49000\n",
      "working on file 50000\n",
      "working on file 51000\n",
      "working on file 52000\n",
      "working on file 53000\n",
      "working on file 54000\n",
      "working on file 55000\n",
      "working on file 56000\n",
      "working on file 57000\n",
      "working on file 58000\n",
      "working on file 59000\n",
      "working on file 60000\n",
      "working on file 61000\n",
      "working on file 62000\n",
      "working on file 63000\n",
      "working on file 64000\n",
      "working on file 65000\n",
      "working on file 66000\n",
      "working on file 67000\n",
      "working on file 68000\n",
      "working on file 69000\n",
      "working on file 70000\n",
      "working on file 71000\n",
      "working on file 72000\n",
      "working on file 73000\n",
      "working on file 74000\n",
      "working on file 75000\n",
      "working on file 76000\n",
      "working on file 77000\n",
      "working on file 78000\n",
      "working on file 79000\n",
      "working on file 80000\n",
      "working on file 81000\n",
      "working on file 82000\n",
      "working on file 83000\n",
      "working on file 84000\n",
      "working on file 85000\n"
     ]
    }
   ],
   "source": [
    "copy_orig2model_folder(train_files, TRAIN_FOLDER)"
   ]
  },
  {
   "cell_type": "markdown",
   "metadata": {},
   "source": [
    "## Overview of files"
   ]
  },
  {
   "cell_type": "code",
   "execution_count": 35,
   "metadata": {},
   "outputs": [
    {
     "data": {
      "text/plain": [
       "85245"
      ]
     },
     "execution_count": 35,
     "metadata": {},
     "output_type": "execute_result"
    }
   ],
   "source": [
    "train_files_fullpath=list(TRAIN_FOLDER.rglob('*.wav'))\n",
    "len(train_files_fullpath)"
   ]
  },
  {
   "cell_type": "code",
   "execution_count": 36,
   "metadata": {},
   "outputs": [
    {
     "data": {
      "text/plain": [
       "11407"
      ]
     },
     "execution_count": 36,
     "metadata": {},
     "output_type": "execute_result"
    }
   ],
   "source": [
    "test_files_fullpath=list(TEST_FOLDER.rglob('*.wav'))\n",
    "len(test_files_fullpath)"
   ]
  },
  {
   "cell_type": "code",
   "execution_count": 88,
   "metadata": {},
   "outputs": [],
   "source": [
    "def get_wav_info(wav_path):\n",
    "    wav_path=str(wav_path)\n",
    "    process = subprocess.Popen(['sox','--i',  wav_path],\n",
    "                     stdout=subprocess.PIPE, \n",
    "                     stderr=subprocess.PIPE)\n",
    "    stdout, stderr = process.communicate()\n",
    "    return stdout, stderr\n",
    "\n",
    "def format_output(output_str):\n",
    "    info_dict={}\n",
    "    for row in output_str.split('\\n'):\n",
    "\n",
    "        pieces=row.split(' : ')\n",
    "        if len(pieces)==2:\n",
    "            info_dict[pieces[0].strip()]=pieces[1].strip()\n",
    "    return info_dict\n",
    "\n",
    "def get_wavs_info(wavs_path):\n",
    "    files_info=[]\n",
    "    for wav in wavs_path:\n",
    "        info_raw=get_wav_info(wav)\n",
    "        info_formatted=format_output(info_raw[0].decode('utf-8'))\n",
    "        files_info.append(info_formatted)\n",
    "    return pd.DataFrame(files_info)\n",
    "        "
   ]
  },
  {
   "cell_type": "code",
   "execution_count": 89,
   "metadata": {},
   "outputs": [],
   "source": [
    "df_test_info=get_wavs_info(test_files_fullpath)"
   ]
  },
  {
   "cell_type": "code",
   "execution_count": 90,
   "metadata": {},
   "outputs": [
    {
     "data": {
      "text/plain": [
       "(11407, 7)"
      ]
     },
     "execution_count": 90,
     "metadata": {},
     "output_type": "execute_result"
    }
   ],
   "source": [
    "df_test_info.shape"
   ]
  },
  {
   "cell_type": "code",
   "execution_count": 91,
   "metadata": {},
   "outputs": [],
   "source": [
    "df_train_info=get_wavs_info(train_files_fullpath)"
   ]
  },
  {
   "cell_type": "code",
   "execution_count": 92,
   "metadata": {},
   "outputs": [
    {
     "data": {
      "text/plain": [
       "(85245, 7)"
      ]
     },
     "execution_count": 92,
     "metadata": {},
     "output_type": "execute_result"
    }
   ],
   "source": [
    "df_train_info.shape"
   ]
  },
  {
   "cell_type": "code",
   "execution_count": 93,
   "metadata": {},
   "outputs": [
    {
     "data": {
      "text/html": [
       "<div>\n",
       "<style scoped>\n",
       "    .dataframe tbody tr th:only-of-type {\n",
       "        vertical-align: middle;\n",
       "    }\n",
       "\n",
       "    .dataframe tbody tr th {\n",
       "        vertical-align: top;\n",
       "    }\n",
       "\n",
       "    .dataframe thead th {\n",
       "        text-align: right;\n",
       "    }\n",
       "</style>\n",
       "<table border=\"1\" class=\"dataframe\">\n",
       "  <thead>\n",
       "    <tr style=\"text-align: right;\">\n",
       "      <th></th>\n",
       "      <th>Input File</th>\n",
       "      <th>Channels</th>\n",
       "      <th>Sample Rate</th>\n",
       "      <th>Precision</th>\n",
       "      <th>Duration</th>\n",
       "      <th>File Size</th>\n",
       "      <th>Bit Rate</th>\n",
       "    </tr>\n",
       "  </thead>\n",
       "  <tbody>\n",
       "    <tr>\n",
       "      <th>11402</th>\n",
       "      <td>'data\\audio_google_original\\test\\_background_n...</td>\n",
       "      <td>1</td>\n",
       "      <td>16000</td>\n",
       "      <td>16-bit</td>\n",
       "      <td>00:00:01.02 = 16384 samples ~ 76.8 CDDA sectors</td>\n",
       "      <td>32.8k</td>\n",
       "      <td>257k</td>\n",
       "    </tr>\n",
       "    <tr>\n",
       "      <th>11403</th>\n",
       "      <td>'data\\audio_google_original\\test\\_background_n...</td>\n",
       "      <td>1</td>\n",
       "      <td>16000</td>\n",
       "      <td>16-bit</td>\n",
       "      <td>00:00:01.02 = 16384 samples ~ 76.8 CDDA sectors</td>\n",
       "      <td>32.8k</td>\n",
       "      <td>257k</td>\n",
       "    </tr>\n",
       "    <tr>\n",
       "      <th>11404</th>\n",
       "      <td>'data\\audio_google_original\\test\\_background_n...</td>\n",
       "      <td>1</td>\n",
       "      <td>16000</td>\n",
       "      <td>16-bit</td>\n",
       "      <td>00:00:01.02 = 16384 samples ~ 76.8 CDDA sectors</td>\n",
       "      <td>32.8k</td>\n",
       "      <td>257k</td>\n",
       "    </tr>\n",
       "    <tr>\n",
       "      <th>11405</th>\n",
       "      <td>'data\\audio_google_original\\test\\_background_n...</td>\n",
       "      <td>1</td>\n",
       "      <td>16000</td>\n",
       "      <td>16-bit</td>\n",
       "      <td>00:00:00.90 = 14336 samples ~ 67.2 CDDA sectors</td>\n",
       "      <td>28.8k</td>\n",
       "      <td>257k</td>\n",
       "    </tr>\n",
       "    <tr>\n",
       "      <th>11406</th>\n",
       "      <td>'data\\audio_google_original\\test\\_background_n...</td>\n",
       "      <td>1</td>\n",
       "      <td>16000</td>\n",
       "      <td>16-bit</td>\n",
       "      <td>00:00:00.99 = 15872 samples ~ 74.4 CDDA sectors</td>\n",
       "      <td>31.8k</td>\n",
       "      <td>257k</td>\n",
       "    </tr>\n",
       "  </tbody>\n",
       "</table>\n",
       "</div>"
      ],
      "text/plain": [
       "                                              Input File Channels Sample Rate  \\\n",
       "11402  'data\\audio_google_original\\test\\_background_n...        1       16000   \n",
       "11403  'data\\audio_google_original\\test\\_background_n...        1       16000   \n",
       "11404  'data\\audio_google_original\\test\\_background_n...        1       16000   \n",
       "11405  'data\\audio_google_original\\test\\_background_n...        1       16000   \n",
       "11406  'data\\audio_google_original\\test\\_background_n...        1       16000   \n",
       "\n",
       "      Precision                                         Duration File Size  \\\n",
       "11402    16-bit  00:00:01.02 = 16384 samples ~ 76.8 CDDA sectors     32.8k   \n",
       "11403    16-bit  00:00:01.02 = 16384 samples ~ 76.8 CDDA sectors     32.8k   \n",
       "11404    16-bit  00:00:01.02 = 16384 samples ~ 76.8 CDDA sectors     32.8k   \n",
       "11405    16-bit  00:00:00.90 = 14336 samples ~ 67.2 CDDA sectors     28.8k   \n",
       "11406    16-bit  00:00:00.99 = 15872 samples ~ 74.4 CDDA sectors     31.8k   \n",
       "\n",
       "      Bit Rate  \n",
       "11402     257k  \n",
       "11403     257k  \n",
       "11404     257k  \n",
       "11405     257k  \n",
       "11406     257k  "
      ]
     },
     "execution_count": 93,
     "metadata": {},
     "output_type": "execute_result"
    }
   ],
   "source": [
    "df_test_info.tail()"
   ]
  },
  {
   "cell_type": "code",
   "execution_count": 94,
   "metadata": {},
   "outputs": [
    {
     "data": {
      "text/html": [
       "<div>\n",
       "<style scoped>\n",
       "    .dataframe tbody tr th:only-of-type {\n",
       "        vertical-align: middle;\n",
       "    }\n",
       "\n",
       "    .dataframe tbody tr th {\n",
       "        vertical-align: top;\n",
       "    }\n",
       "\n",
       "    .dataframe thead th {\n",
       "        text-align: right;\n",
       "    }\n",
       "</style>\n",
       "<table border=\"1\" class=\"dataframe\">\n",
       "  <thead>\n",
       "    <tr style=\"text-align: right;\">\n",
       "      <th></th>\n",
       "      <th>Input File</th>\n",
       "      <th>Channels</th>\n",
       "      <th>Sample Rate</th>\n",
       "      <th>Precision</th>\n",
       "      <th>Duration</th>\n",
       "      <th>File Size</th>\n",
       "      <th>Bit Rate</th>\n",
       "    </tr>\n",
       "  </thead>\n",
       "  <tbody>\n",
       "    <tr>\n",
       "      <th>count</th>\n",
       "      <td>11407</td>\n",
       "      <td>11407</td>\n",
       "      <td>11407</td>\n",
       "      <td>11407</td>\n",
       "      <td>11407</td>\n",
       "      <td>11407</td>\n",
       "      <td>11407</td>\n",
       "    </tr>\n",
       "    <tr>\n",
       "      <th>unique</th>\n",
       "      <td>11407</td>\n",
       "      <td>1</td>\n",
       "      <td>1</td>\n",
       "      <td>1</td>\n",
       "      <td>53</td>\n",
       "      <td>40</td>\n",
       "      <td>6</td>\n",
       "    </tr>\n",
       "    <tr>\n",
       "      <th>top</th>\n",
       "      <td>'data\\audio_google_original\\test\\unknown\\bed_8...</td>\n",
       "      <td>1</td>\n",
       "      <td>16000</td>\n",
       "      <td>16-bit</td>\n",
       "      <td>00:00:01.00 = 16000 samples ~ 75 CDDA sectors</td>\n",
       "      <td>32.0k</td>\n",
       "      <td>256k</td>\n",
       "    </tr>\n",
       "    <tr>\n",
       "      <th>freq</th>\n",
       "      <td>1</td>\n",
       "      <td>11407</td>\n",
       "      <td>11407</td>\n",
       "      <td>11407</td>\n",
       "      <td>10083</td>\n",
       "      <td>10083</td>\n",
       "      <td>10760</td>\n",
       "    </tr>\n",
       "  </tbody>\n",
       "</table>\n",
       "</div>"
      ],
      "text/plain": [
       "                                               Input File Channels  \\\n",
       "count                                               11407    11407   \n",
       "unique                                              11407        1   \n",
       "top     'data\\audio_google_original\\test\\unknown\\bed_8...        1   \n",
       "freq                                                    1    11407   \n",
       "\n",
       "       Sample Rate Precision                                       Duration  \\\n",
       "count        11407     11407                                          11407   \n",
       "unique           1         1                                             53   \n",
       "top          16000    16-bit  00:00:01.00 = 16000 samples ~ 75 CDDA sectors   \n",
       "freq         11407     11407                                          10083   \n",
       "\n",
       "       File Size Bit Rate  \n",
       "count      11407    11407  \n",
       "unique        40        6  \n",
       "top        32.0k     256k  \n",
       "freq       10083    10760  "
      ]
     },
     "execution_count": 94,
     "metadata": {},
     "output_type": "execute_result"
    }
   ],
   "source": [
    "df_test_info.describe(include='all')"
   ]
  },
  {
   "cell_type": "code",
   "execution_count": 95,
   "metadata": {},
   "outputs": [
    {
     "data": {
      "text/html": [
       "<div>\n",
       "<style scoped>\n",
       "    .dataframe tbody tr th:only-of-type {\n",
       "        vertical-align: middle;\n",
       "    }\n",
       "\n",
       "    .dataframe tbody tr th {\n",
       "        vertical-align: top;\n",
       "    }\n",
       "\n",
       "    .dataframe thead th {\n",
       "        text-align: right;\n",
       "    }\n",
       "</style>\n",
       "<table border=\"1\" class=\"dataframe\">\n",
       "  <thead>\n",
       "    <tr style=\"text-align: right;\">\n",
       "      <th></th>\n",
       "      <th>Input File</th>\n",
       "      <th>Channels</th>\n",
       "      <th>Sample Rate</th>\n",
       "      <th>Precision</th>\n",
       "      <th>Duration</th>\n",
       "      <th>File Size</th>\n",
       "      <th>Bit Rate</th>\n",
       "    </tr>\n",
       "  </thead>\n",
       "  <tbody>\n",
       "    <tr>\n",
       "      <th>count</th>\n",
       "      <td>85245</td>\n",
       "      <td>85245</td>\n",
       "      <td>85245</td>\n",
       "      <td>85245</td>\n",
       "      <td>85245</td>\n",
       "      <td>85245</td>\n",
       "      <td>85245</td>\n",
       "    </tr>\n",
       "    <tr>\n",
       "      <th>unique</th>\n",
       "      <td>85245</td>\n",
       "      <td>1</td>\n",
       "      <td>1</td>\n",
       "      <td>1</td>\n",
       "      <td>142</td>\n",
       "      <td>94</td>\n",
       "      <td>5</td>\n",
       "    </tr>\n",
       "    <tr>\n",
       "      <th>top</th>\n",
       "      <td>'data\\audio_google_original\\train\\up\\a489191a_...</td>\n",
       "      <td>1</td>\n",
       "      <td>16000</td>\n",
       "      <td>16-bit</td>\n",
       "      <td>00:00:01.00 = 16000 samples ~ 75 CDDA sectors</td>\n",
       "      <td>32.0k</td>\n",
       "      <td>256k</td>\n",
       "    </tr>\n",
       "    <tr>\n",
       "      <th>freq</th>\n",
       "      <td>1</td>\n",
       "      <td>85245</td>\n",
       "      <td>85245</td>\n",
       "      <td>85245</td>\n",
       "      <td>76364</td>\n",
       "      <td>76367</td>\n",
       "      <td>83090</td>\n",
       "    </tr>\n",
       "  </tbody>\n",
       "</table>\n",
       "</div>"
      ],
      "text/plain": [
       "                                               Input File Channels  \\\n",
       "count                                               85245    85245   \n",
       "unique                                              85245        1   \n",
       "top     'data\\audio_google_original\\train\\up\\a489191a_...        1   \n",
       "freq                                                    1    85245   \n",
       "\n",
       "       Sample Rate Precision                                       Duration  \\\n",
       "count        85245     85245                                          85245   \n",
       "unique           1         1                                            142   \n",
       "top          16000    16-bit  00:00:01.00 = 16000 samples ~ 75 CDDA sectors   \n",
       "freq         85245     85245                                          76364   \n",
       "\n",
       "       File Size Bit Rate  \n",
       "count      85245    85245  \n",
       "unique        94        5  \n",
       "top        32.0k     256k  \n",
       "freq       76367    83090  "
      ]
     },
     "execution_count": 95,
     "metadata": {},
     "output_type": "execute_result"
    }
   ],
   "source": [
    "df_train_info.describe(include='all')"
   ]
  },
  {
   "cell_type": "code",
   "execution_count": 101,
   "metadata": {},
   "outputs": [
    {
     "data": {
      "text/plain": [
       "00:00:01.00 = 16000 samples ~ 75 CDDA sectors         10083\n",
       "00:00:01.02 = 16384 samples ~ 76.8 CDDA sectors         324\n",
       "00:00:00.90 = 14336 samples ~ 67.2 CDDA sectors         153\n",
       "00:00:00.98 = 15702 samples ~ 73.6031 CDDA sectors       80\n",
       "00:00:00.94 = 15019 samples ~ 70.4016 CDDA sectors       63\n",
       "00:00:00.98 = 15604 samples ~ 73.1437 CDDA sectors       48\n",
       "00:00:00.85 = 13654 samples ~ 64.0031 CDDA sectors       45\n",
       "00:00:00.77 = 12288 samples ~ 57.6 CDDA sectors          42\n",
       "00:00:00.81 = 12971 samples ~ 60.8016 CDDA sectors       41\n",
       "00:00:00.93 = 14861 samples ~ 69.6609 CDDA sectors       36\n",
       "00:00:00.64 = 10240 samples ~ 48 CDDA sectors            32\n",
       "00:00:00.88 = 14118 samples ~ 66.1781 CDDA sectors       29\n",
       "00:00:00.75 = 12052 samples ~ 56.4937 CDDA sectors       28\n",
       "00:00:00.84 = 13375 samples ~ 62.6953 CDDA sectors       26\n",
       "00:00:00.51 = 8192 samples ~ 38.4 CDDA sectors           25\n",
       "00:00:00.73 = 11606 samples ~ 54.4031 CDDA sectors       24\n",
       "00:00:00.73 = 11605 samples ~ 54.3984 CDDA sectors       22\n",
       "00:00:00.98 = 15701 samples ~ 73.5984 CDDA sectors       21\n",
       "00:00:00.55 = 8875 samples ~ 41.6016 CDDA sectors        20\n",
       "00:00:00.94 = 15018 samples ~ 70.3969 CDDA sectors       20\n",
       "00:00:00.55 = 8874 samples ~ 41.5969 CDDA sectors        19\n",
       "00:00:00.68 = 10923 samples ~ 51.2016 CDDA sectors       19\n",
       "00:00:00.85 = 13653 samples ~ 63.9984 CDDA sectors       19\n",
       "00:00:00.60 = 9558 samples ~ 44.8031 CDDA sectors        18\n",
       "00:00:00.60 = 9557 samples ~ 44.7984 CDDA sectors        16\n",
       "00:00:00.68 = 10922 samples ~ 51.1969 CDDA sectors       16\n",
       "00:00:00.81 = 12970 samples ~ 60.7969 CDDA sectors       15\n",
       "00:00:00.74 = 11888 samples ~ 55.725 CDDA sectors        14\n",
       "00:00:00.65 = 10402 samples ~ 48.7594 CDDA sectors       11\n",
       "00:00:00.70 = 11145 samples ~ 52.2422 CDDA sectors       11\n",
       "00:00:00.43 = 6826 samples ~ 31.9969 CDDA sectors        11\n",
       "00:00:00.60 = 9659 samples ~ 45.2766 CDDA sectors         8\n",
       "00:00:00.38 = 6144 samples ~ 28.8 CDDA sectors            8\n",
       "00:00:00.79 = 12632 samples ~ 59.2125 CDDA sectors        8\n",
       "00:00:00.47 = 7509 samples ~ 35.1984 CDDA sectors         7\n",
       "00:00:00.79 = 12631 samples ~ 59.2078 CDDA sectors        6\n",
       "00:00:00.74 = 11889 samples ~ 55.7297 CDDA sectors        5\n",
       "00:00:00.70 = 11146 samples ~ 52.2469 CDDA sectors        4\n",
       "00:00:00.76 = 12132 samples ~ 56.8687 CDDA sectors        4\n",
       "00:00:00.51 = 8173 samples ~ 38.3109 CDDA sectors         4\n",
       "00:00:00.56 = 8916 samples ~ 41.7938 CDDA sectors         3\n",
       "00:00:00.42 = 6687 samples ~ 31.3453 CDDA sectors         3\n",
       "00:00:00.46 = 7430 samples ~ 34.8281 CDDA sectors         3\n",
       "00:00:00.34 = 5461 samples ~ 25.5984 CDDA sectors         3\n",
       "00:00:00.99 = 15872 samples ~ 74.4 CDDA sectors           2\n",
       "00:00:00.75 = 11995 samples ~ 56.2266 CDDA sectors        1\n",
       "00:00:00.20 = 3166 samples ~ 14.8406 CDDA sectors         1\n",
       "00:00:00.65 = 10403 samples ~ 48.7641 CDDA sectors        1\n",
       "00:00:00.21 = 3413 samples ~ 15.9984 CDDA sectors         1\n",
       "00:00:00.47 = 7510 samples ~ 35.2031 CDDA sectors         1\n",
       "00:00:00.37 = 5944 samples ~ 27.8625 CDDA sectors         1\n",
       "00:00:00.10 = 1592 samples ~ 7.4625 CDDA sectors          1\n",
       "00:00:00.08 = 1266 samples ~ 5.93438 CDDA sectors         1\n",
       "Name: Duration, dtype: int64"
      ]
     },
     "execution_count": 101,
     "metadata": {},
     "output_type": "execute_result"
    }
   ],
   "source": [
    "df_test_info.Duration.value_counts()"
   ]
  },
  {
   "cell_type": "code",
   "execution_count": 102,
   "metadata": {},
   "outputs": [
    {
     "data": {
      "text/plain": [
       "00:00:01.00 = 16000 samples ~ 75 CDDA sectors         76364\n",
       "00:00:00.90 = 14336 samples ~ 67.2 CDDA sectors         614\n",
       "00:00:00.98 = 15702 samples ~ 73.6031 CDDA sectors      507\n",
       "00:00:00.98 = 15604 samples ~ 73.1437 CDDA sectors      465\n",
       "00:00:00.94 = 15019 samples ~ 70.4016 CDDA sectors      457\n",
       "                                                      ...  \n",
       "00:00:00.08 = 1266 samples ~ 5.93438 CDDA sectors         1\n",
       "00:00:00.53 = 8534 samples ~ 40.0031 CDDA sectors         1\n",
       "00:00:00.10 = 1592 samples ~ 7.4625 CDDA sectors          1\n",
       "00:00:00.63 = 10069 samples ~ 47.1984 CDDA sectors        1\n",
       "00:00:00.66 = 10582 samples ~ 49.6031 CDDA sectors        1\n",
       "Name: Duration, Length: 142, dtype: int64"
      ]
     },
     "execution_count": 102,
     "metadata": {},
     "output_type": "execute_result"
    }
   ],
   "source": [
    "df_train_info.Duration.value_counts()"
   ]
  },
  {
   "cell_type": "code",
   "execution_count": null,
   "metadata": {},
   "outputs": [],
   "source": []
  }
 ],
 "metadata": {
  "kernelspec": {
   "display_name": "Python 3",
   "language": "python",
   "name": "python3"
  },
  "language_info": {
   "codemirror_mode": {
    "name": "ipython",
    "version": 3
   },
   "file_extension": ".py",
   "mimetype": "text/x-python",
   "name": "python",
   "nbconvert_exporter": "python",
   "pygments_lexer": "ipython3",
   "version": "3.7.4"
  }
 },
 "nbformat": 4,
 "nbformat_minor": 2
}
